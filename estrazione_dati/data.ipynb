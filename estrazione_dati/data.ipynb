{
 "cells": [
  {
   "cell_type": "markdown",
   "id": "e5812951",
   "metadata": {},
   "source": [
    "# LeBron James Shots Analysis\n",
    "\n",
    "In this notebook, we will arrange the data to analyze LeBron James' offensive evolution throughout his career.\n",
    "\n",
    "## Importing Libraries\n",
    "To begin our analysis, we need to import the required libraries and load the dataset that contains LeBron James' career shots. You can access the dataset [here](https://www.kaggle.com/datasets/eduvadillo/lebron-james-career-shots)."
   ]
  },
  {
   "cell_type": "code",
   "execution_count": 17,
   "id": "7725af80",
   "metadata": {},
   "outputs": [],
   "source": [
    "import pandas as pd\n",
    "import numpy as np\n",
    "\n",
    "df = pd.read_csv('lebron_shot_data.csv', encoding='utf8')"
   ]
  },
  {
   "cell_type": "markdown",
   "id": "b4105538",
   "metadata": {},
   "source": [
    "## LeBron Shots Data\n",
    "\n",
    "### Data Cleaning\n",
    "Let's begin by cleaning the dataframe to focus only on the necessary information for our analysis.\n",
    "\n",
    "- Step 1: Remove Unnecessary Columns\n",
    "\n",
    "We will start by removing columns that are not essential for our analysis.\n",
    "\n",
    "- Step 2: Rename Columns\n",
    "\n",
    "Next, we will rename the columns to make the data more understandable and easier to work with.\n",
    "\n",
    "- 3: Invert X-axis Coordinates\n",
    "\n",
    "Since the original data is formatted for a mirrored basketball court, we will invert the x-axis coordinates to match the orientation of the court we will plot.\n"
   ]
  },
  {
   "cell_type": "code",
   "execution_count": 18,
   "id": "0906e489-63ec-44b1-835b-5b2f010de6a9",
   "metadata": {},
   "outputs": [],
   "source": [
    "df = pd.read_csv('lebron_shot_data.csv', encoding='utf8')\n",
    "\n",
    "df = df.drop(['GAME_ID', 'GAME_EVENT_ID', 'PLAYER_ID', 'PLAYER_NAME', 'TEAM_ID', 'EVENT_TYPE', 'GAME_DATE', 'HTM', 'VTM', 'SHOT_ZONE_RANGE', 'SHOT_TYPE', 'ACTION_TYPE', ], axis=1)\n",
    "df = df.rename(columns={\"TEAM_NAME\": \"Team\", \"PERIOD\": \"Period\", \"MINUTES_REMAINING\": \"Minutes_Remaining\", \"SHOT_MADE_FLAG\": \"FG\", \"SHOT_ATTEMPTED_FLAG\": \"FGA\", \"SHOT_ZONE_BASIC\": \"Zone\", \"SHOT_ZONE_AREA\": \"Area\", \"LOC_X\": \"X\", \"LOC_Y\": \"Y\", \"SHOT_DISTANCE\": \"Distance\", \"SEASON\": \"Season\"})\n",
    "#inverto la dx con la sx per avere la rappresentazione corretta\n",
    "#dati sono specchiati perchè la rappresentazione è specchiata rispetto all'asse y\n",
    "df['X'] = -df['Y']\n",
    "\n",
    "#trasformo i left center e rigth center in left e right\n",
    "\n",
    "df['Area'] = df['Area'].replace(['Left Side Center(LC)', 'Right Side Center(RC)'], ['Left Side(L)', 'Right Side(R)'])\n",
    "\n",
    "\n",
    "#remove not significant data\n",
    "#remove shots from more than 30 feet\n",
    "df = df[df['Distance'] <= 30]\n",
    "#remove shots from the last 3 minutes of the game\n",
    "df = df[(df['Period'] < 4) | (df['Minutes_Remaining'] <= 3)]\n",
    "\n",
    "df = df.drop(['Period', 'Minutes_Remaining', 'SECONDS_REMAINING'], axis=1)\n",
    "\n",
    "\n",
    "\n",
    "df  = df.set_index(['Team', 'Season'])\n",
    "df.to_pickle(\"../creazione_plot/LeBronShots.pickle\")\n",
    "#display(df)"
   ]
  },
  {
   "cell_type": "markdown",
   "id": "71c678cf",
   "metadata": {},
   "source": [
    "## Advanced Data\n",
    "\n",
    "This dataset has been compiled by aggregating various statistics from basketball-reference.com, which can be downloaded directly as a CSV file from the following links: [basketball-reference.com](https://www.basketball-reference.com/players/j/jamesle01.html#advanced) and [statmuse.com](https://www.statmuse.com/nba/ask/nba).\n",
    "\n",
    "### Basketball Reference\n",
    "Similarly to before, we will clean up the dataset to retain only the relevant data. Additionally, we will set an index that will facilitate merging with other statistics."
   ]
  },
  {
   "cell_type": "code",
   "execution_count": 19,
   "id": "fa7baecb",
   "metadata": {},
   "outputs": [],
   "source": [
    "df_advanced_Aux = pd.read_csv('advanced.csv', encoding='utf8')\n",
    "\n",
    "#drop unnamed column\n",
    "df_advanced_Aux = df_advanced_Aux.drop(df_advanced_Aux.columns[df_advanced_Aux.columns.str.contains('unnamed',case = False)],axis = 1)\n",
    "\n",
    "#drop age, Lg, Pos , MP, TS%, 3PAr, FTr, ORB%, DRB%, TRB%, AST%, STL%, BLK%, TOV%, DWS, WS, WS/48, OBPM, DBPM, BPM, VORP\n",
    "\n",
    "df_advanced_Aux = df_advanced_Aux.drop(['Age', 'Lg', 'Pos', 'MP', 'TS%', '3PAr', 'FTr', 'ORB%', 'DRB%', 'TRB%', 'AST%', 'STL%', 'BLK%', 'TOV%', 'DWS', 'WS', 'WS/48', 'OBPM', 'DBPM', 'BPM', 'VORP', 'PER'], axis=1)\n",
    "\n",
    "#rename columns, set team, season and as index\n",
    "\n",
    "df_advanced_Aux = df_advanced_Aux.rename(columns={'Tm' : 'Team', 'G' : 'GP', 'USG%' : 'USG'})\n",
    "\n",
    "df_advanced_Aux = df_advanced_Aux.set_index(['Team', 'Season'])\n",
    "\n",
    "#display(df_advanced_Aux)\n"
   ]
  },
  {
   "cell_type": "markdown",
   "id": "89ee7e2e",
   "metadata": {},
   "source": [
    "## StatMuse Data Integration\n",
    "To incorporate statistics on Offensive Rating (ORtg) from StatMuse.com, we'll construct a dataframe to compile these values. Here's how we'll proceed:\n",
    "\n",
    "- Step 1: Building the ORtg Dataframe\n",
    "\n",
    "We'll create a dictionary to store the ORtg statistics and then convert this dictionary into a dataframe.\n",
    "\n",
    "- Step 2: Combining Dataframes\n",
    "\n",
    "Finally, we'll merge the two dataframes based on their indices to consolidate all the necessary data."
   ]
  },
  {
   "cell_type": "code",
   "execution_count": 20,
   "id": "eae84be0",
   "metadata": {},
   "outputs": [],
   "source": [
    "# Dati forniti\n",
    "data = {\n",
    "    'Season': [\n",
    "        '2003-04', '2004-05', '2005-06', '2006-07', '2007-08', '2008-09',\n",
    "        '2009-10', '2010-11', '2011-12', '2012-13', '2013-14', '2014-15',\n",
    "        '2015-16', '2016-17', '2017-18', '2018-19', '2019-20', '2020-21',\n",
    "        '2021-22', '2022-23', '2023-24'\n",
    "    ],\n",
    "    'Team': [\n",
    "        'CLE', 'CLE', 'CLE', 'CLE', 'CLE', 'CLE', 'CLE', \n",
    "             'MIA', 'MIA', 'MIA', 'MIA', \n",
    "             'CLE', 'CLE', 'CLE', 'CLE', \n",
    "             'LAL', 'LAL', 'LAL', 'LAL', 'LAL', 'LAL'],\n",
    "\n",
    "    'OFR_L': [\n",
    "        101.8, 107.4, 108.6, 105.7, 107.7, 113.2, 112.8,\n",
    "        112.8, 108.9, 113.6, 112.4,\n",
    "        114.2, 112.1, 116.0, 113.5,\n",
    "        110.1, 112.9, 112.2, 112.0, 116.1, 116.8],\n",
    "    'OFR_T': [\n",
    "        108.6, 112.1, 104.5, 116.1, 95.7, 118.7, 103.5,\n",
    "        109.4, 86.8, 110.4, 106.8,\n",
    "        99.7, 105.0, 97.3, np.nan,\n",
    "        105.0, 109.8, 107.7, 109.0, 113.1, 116.3],\n",
    "\n",
    "    'LEAGUE_OFR': [\n",
    "        102.9, 106.1, 106.2, 106.5, 107.5, 108.3, 107.6,\n",
    "        107.3, 104.6, 105.9, 106.7,\n",
    "        105.6, 106.4, 108.8, 108.6,\n",
    "        110.4, 110.6, 112.3, 112.0, 114.8, 115.3]\n",
    "\n",
    "}\n",
    "\n",
    "# Creazione del DataFrame\n",
    "df_advanced_Aux2 = pd.DataFrame(data)\n",
    "\n",
    "# Impostazione dell'indice\n",
    "df_advanced_Aux2 = df_advanced_Aux2.set_index(['Team', 'Season'])\n",
    "\n",
    "# Unione dei DataFrame\n",
    "df_advanced = pd.concat([df_advanced_Aux, df_advanced_Aux2], axis=1)\n",
    "\n",
    "#display(df_advanced)\n",
    "\n",
    "df_advanced.to_pickle(\"../creazione_plot/LeBronAdvanced.pickle\")"
   ]
  }
 ],
 "metadata": {
  "kernelspec": {
   "display_name": "Python 3 (ipykernel)",
   "language": "python",
   "name": "python3"
  },
  "language_info": {
   "codemirror_mode": {
    "name": "ipython",
    "version": 3
   },
   "file_extension": ".py",
   "mimetype": "text/x-python",
   "name": "python",
   "nbconvert_exporter": "python",
   "pygments_lexer": "ipython3",
   "version": "3.12.2"
  }
 },
 "nbformat": 4,
 "nbformat_minor": 5
}
